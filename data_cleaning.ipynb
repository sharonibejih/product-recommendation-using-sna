{
 "cells": [
  {
   "cell_type": "code",
   "execution_count": 7,
   "metadata": {},
   "outputs": [],
   "source": [
    "import pandas as pd\n",
    "import re\n",
    "import datetime"
   ]
  },
  {
   "cell_type": "code",
   "execution_count": null,
   "metadata": {},
   "outputs": [],
   "source": [
    "data1 = pd.read_csv(\"../cust_twitter_data.csv\")\n",
    "data1.head()"
   ]
  },
  {
   "cell_type": "code",
   "execution_count": 11,
   "metadata": {},
   "outputs": [
    {
     "name": "stdout",
     "output_type": "stream",
     "text": [
      "bowles36marcia, phylliscolber11, obiobidigbo1, PANKAJBHUTE2, reasner_tiffany, Oyii_dennis, TheIbibioGirl, kadunaresidentB, akinalabi, JulianaAgbo3, jessintaodah, christy_oikowo, lish82886216, _Iyajuwa, thelizzie07, MaryJunior14, Ross_oche, Gloriaotokpa, AuduJelo, simon_ekpa, ElNennY, alat_ng, NBS_Nigeria, icpcnigeria, nigerianports, EnergySummitNGR, copyrightngr, PenComNig, nlpcpfa, DayoOduroye, MindlineHQ, ikjamestar3, RealSeunKuti, SEzekwesili, Philip_Michael, Zinchenko_Ol, KunleRemi, Alookman_, Beautiful_Nubia, scrumtuous, Jamesperry00, SavvyRinu, judiboybaby, gemasti_gerald, MoisesCaicedo55, fawoleseyi2911, AdeolaFayehun, GRVlagos, BlueCrossHosp, ChrisHu93581757, Jaywaurld, ChuksJaphet, AlNassrFC_EN, cuppymusic, asakemusik, CheveuxBrand, kapturestudios, seyiamakinde, Sabinus1_, Rainbowfm_907, ayrastarr, _deyemi, OfficialOsas, sterlinghelp, WhatsApp, facebook, anselmnsolo, daudagerald_, waecdigitalcert, BoschGlobal, IretiKingibe, mg_mashesh, Sirthomas_Abi, Peter17068847, abrahammorgan9, babakeke97, Krypto_Floyd, MbaJoseph16, saintmerit1998, ChichiHope4, OdogwuGodfrey, RockefellerFdn, mclomongeen, justadetoun, Vortex_Daniels, Desmondumeh, MattWallace888, samsungmobileng, fraustineopara, emmanueloffiah7, Conservatives, IainDale, NadineDorries, PennyMordaunt, AlStewartOBE, johnredwood, JamesCleverly, Jacob_Rees_Mogg, pritipatel, toryboypierce, RishiSunak, vicjoig, BurlyMonk, Obilo1Million, JASONVIC44, kindwest, Johnson4Dallas, bod_republic, NigsonGroup, VictorIsrael_, solakafinta, DiamondOkechi, ZilethGroup, Orji_Okosisi1, RoyalFamily, JohnBoyega, garyhgoodridge, trussliz, CitizenChisom, USPSbiz, praisegeorge, IATA, AlabiAh20420384, Proofbycw, jeremiadetunji, WFLAJosh, SadiqAwalAnone, Mrombudsmann_, iam_Nnachi, DAMIADENUGA, BeverlyNaya, JemimaOsunde, PereEgbi, gabbylucciii, LiquoroseAfije_, TheDimejiLateef, tokstarr, Enioluwa_, _kehindebankole, DominelloVictor, larry_miller5, Clear_It_9ja, CiscoIoT, AlexanderOdigw, GAkaolisa2, JeffreyGuterman, Chineme__daniel, Palms_Tv, Iheanyi43451107, AndrewAsuquo3, ChimaOdo, Scopelifestyle, EbaseMatthew, BabalolaChris12, AmyLynnStL, ANDRIY_BODASHKA, VisualCap, AaJessehalliday, Samson97620535, iamTrendyTalker, emmanelayodeji, iambusaryo, muftimenk, kbalogunr, Sokilala1, IAmSteveHarvey, beINSPORTS_AUS, Kelvin18123, markpollock, OficialCedric, EddieNketiah9, NGSuper_Falcons, LabourMinNG, OdusolaOlawale, Onlineguru_, mylagosride, PabloMV5, Obinna_1x1, OfficialSaskay, jnr_lambo, Chiddonz, Omah_Lay, heisrema, uche_chukw, Thomaspartey22, GraceEkpu, ThePChris, DavidHundeyin, BukayoSaka87, ErlingHaaland, iamMightyGeorge, KICChennai, theangeljbsmith, BenOche5, ARISEtv, OfficialAPCNg, YakubDogara, PeterObi, NgLabour, AfamDeluxo\n"
     ]
    }
   ],
   "source": [
    "# an example of a customer's most recent 200 following list\n",
    "print(data1[\"following\"][1])"
   ]
  },
  {
   "cell_type": "code",
   "execution_count": 8,
   "metadata": {},
   "outputs": [],
   "source": [
    "# classify user possible interests: these lists can be improved.\n",
    "\n",
    "shopping = [\"shopping\",\"shop\",\"superstore\",\"supermarket\",\"store\",\"super\",\"retail\",\"mart\",\"ultramart\",\"shopper\",\"mall\",\"sainsbury\",\"russel\",\"bromley\",\"walmart\",\"jasper\",\"bestbuy\",\"grocery\",\"ikea\",\"tesco\",\"spar\",\"ebeano\",\"hubmart\",\"buymore\",\"shoprite\",\"justrite\",\"pep\",\"foodco\",\"bazaar\",\"deprince\",\"citydia\",\n",
    "\"miniso\",\"price\",\"daviva\",\"grandsquare\",\"jifatu\",\"mango\",\"selfridges\",\"fraser\",\"shopcity\",\n",
    "\"lewis\",\"debenhams\",\"dorothy\",\"perkins\",\"dalema\",\"enzo\",\"max\",\"shoe\",\"dress\",\"market\",\"carrefour\",\"redtag\",\"poundworld\",\"plaza\",\"artee\",\n",
    "\"sundry\",\"justrite\",\"ecart\",\"prince ebeano\",\"blenco\",\"ekeoha shopping\",\"supermart\",\"superstores\",\"next\",\"cash\",\n",
    "\"supershoppy\",\"justrite\",\"aliexpress\",\"ENTERPRISES\",\"grandsquare\",\"jifatu\",\"selfridges\",\"fraser\",\"lewis\",\"debenhams\",\"dorothy\",\"perkins\",\"dalema\",\"enzo\",\"konga\",\"jumia\",\"amazon\",\"paypal\",\"commerce\",\"buy\",\"vendor\",\"cdcare\",\"konga\",\"jumia\",\"amazon\",'walmart',\"paypal\",\"commerce\",\"selar\", \"cart\"]\n",
    "\n",
    "fashion = [\"clothing\",\"cloth\",\"clothe\",\"cosmetics\",\"fashion\",\"spencer\",\"primark\",\"aldo\",\"zara\",\"gap\",\"hilfiger\",\"topshop\",\"next\",\"lewin\",\"asos\",\"newlook\",\"hawes\",\"curtis\",\"beauty\",\"woolworth\",\"boots\",\"lingerie\",\n",
    "\"sephora\",\"mac\",\"allure\",\"zaron\",\"oriflame\",\"elf\",\"swatz\",\"tara\",\"mothercare\",\"poise\",\"clothier\",\"fraser\",\"carter\",\"wear\",\"dress\",\"victoria\",\"wears\",\"crochet\",\"wigs\",\"shoes\",\"makeup\",\"beauty\",\"hair\",\"skincare\",\"dematologist\",\"tailor\"]\n",
    "\n",
    "travel =  [\"travel\",\"hotel\",\"inn\",\"logistics\",\"uber\",\"taxify\",\"suites\",\"hilton\",\"apartment\",\"air\",\"holiday\",\"arik\",\"ifex\",\"gigm\",\"radisson\",\"recreation\",\"hospitality\",\"taxi\",\"visa\",\"sheraton\",\"emirates\",\"lyft\",\"resort\",\"etihad\",\"wakanow\",\"travels\",\n",
    "\"heathrow\",\"egyptair\",\"airbnb\",\"guest\",\"klm\",\"airport\",\"metro\",\"airline\",\"fly\"]\n",
    "\n",
    "utilities = [\"utility\",\"utilities\",\"water\",\"oil\",\"gas\",\"energy\",\"cable\",\"airtime\",\"vtu\",\"spectranet\",\"glo\",\"tunes\",\"subscriptions\",\"ups\",\"netflix\",\"telkom\",\n",
    "\"mobile\",\"internet\",\"vodafone\",\"etisalat\",\"airtel\",\"mtn\",\"buypower\",\"electricity\",\"power\",\"electric\",\"enugudisco\",\"IkejaElectric\",\"EKEDP\"]\n",
    " \n",
    "power = [\"buypower\",\"electricity\",\"power\",\"electric\",\"enugudisco\",\"IkejaElectric\",\"EKEDP\",\"aedcelectricity\",\"josdisco\",\"IBEDC_NG\",\"Kadunaelectric\",\"kedcoplc\",\"PHEDconnect\",\"solar\",\"hydro\",\"biomass\",\"geothermal\",\"energy\"]\n",
    "\n",
    "car_sales = [\"jiji\", \"cars\", \"auto\"]\n",
    " \n",
    "health = [\"health\",\"club\",\"drug\",\"clinic\",\"pharmacy\",\"pharm\",\"healthcare\",\"medplus\",\"healthplus\",\"chemist\",\"dental\",\"spa\",\"massage\",\"gym\",\"hospital\"]\n",
    "  \n",
    "education = [\"book\",\"tutor\",\"education\",\"educate\",\"book\",\"school\",\"college\",\"university\",\"udemy\",\"udacity\",\"coursera\",\"edx\",\"lynda\",\"teach\",\"teacher\", \"student\",\"pupil\",\"institute\",\"academy\",\"academic\",\"graduate\",\"cambridge\",\"examination\",\"prepclass\",\"learn\",\"postgraduate\",\"tution\",\"GRE\",\"IELTS\",\"TOEFL\",\"writing\",\"cambridge\",\"study\", \"abroad\",\"undergraduate\",\"scholarship\",\"masters\",\"programme\",\"PhD\",\"academia\",\"edu\"]\n",
    " \n",
    "betting = [\"bet9ja\",\"betking\",\"sportsbet\",\"nairabet\",\"WSbet\",\"Sportybet\",\"bet\"]\n",
    " \n",
    "investment = [\"piggyvest\",\"kudi\",\"risevest\",\"thrive\",\"cowrywise\"]\n",
    " \n",
    "loan_seeking = [\"palmcredit\",\"paylater\",\"fets\",\"branch\",\"credit\", \"invest\",\"loan\", \"carbon\",\"Migo\",\"Page\",\"RenMoney\",\"kwikcash\", \"quickcheck\", \"Fastcredit\"]\n",
    "\n",
    "non_interest = [\"TAJBankLtd\", \"LotusBank\", \"JaizBankNG\", \"SunTrustNG\", \"AltFinanceNg\"]\n",
    "\n",
    "# tech = [\"dev\",\"software\",\"tech\",\"fintech\",\"figma\",\"code\",\"devops\",\"mlops\",\"WomenTechmakers\",\"robotics\",\"machinelearning\", \"hardware\", \"computer\"] # people in tech will be interested in electronic devices from AltMall\n",
    " \n",
    "# local_mobility = [\"uber\",\"bolt\",\"taxify\", \"LagosRide\", \"Shuttlers\", \"drive\", \"ride\", \"taxi\"]\n",
    "\n",
    "def convert(set):\n",
    "    return [*set, ]\n",
    "\n",
    "def str_detect(list, col):\n",
    "  \"\"\"\n",
    "  Match any string in given list with user following column\n",
    "  Args:\n",
    "  list = any interest list defined above, e.g shopping, health\n",
    "  col = Dataframe column name of \"user following\".\n",
    "  \n",
    "  Returns:\n",
    "  list of items in the given list that matches user followings.\n",
    "  \"\"\"\n",
    "  list_ = [x.lower() for x in set(list)]\n",
    "  col_ = str(col).lower()\n",
    "  y = re.findall(r\"(?=(\"+'|'.join(list_)+r\"))\", col_)\n",
    "  y_ = set(y)\n",
    "  return convert(y_)\n",
    "\n",
    "def classify_user_interest(df:pd.DataFrame, col):\n",
    "    \"\"\"\n",
    "    Args:\n",
    "    df = Pandas DataFrame\n",
    "    col = Column in Pandas DataFrame that contains the customers' following list (i.e the list of people they follow)\n",
    "    \n",
    "    Returns:\n",
    "    New columns, with each one representing different interests and the list of items that suggests why they have such interest.\n",
    "    \"\"\"\n",
    "    df[\"Shopping\"] = df[\"following\"].apply(lambda x: str_detect(shopping, x))\n",
    "    df[\"Travel\"] = df[\"following\"].apply(lambda x: str_detect(travel, x))\n",
    "    df[\"Utilities\"] = df[\"following\"].apply(lambda x: str_detect(utilities, x))\n",
    "    df[\"Betting\"] = df[\"following\"].apply(lambda x: str_detect(betting, x))\n",
    "    df[\"Fashion\"] = df[\"following\"].apply(lambda x: str_detect(fashion, x))\n",
    "    df[\"Education\"] = df[\"following\"].apply(lambda x: str_detect(education, x))\n",
    "    df[\"Health\"] = df[\"following\"].apply(lambda x: str_detect(health, x))\n",
    "    df[\"Investment\"] = df[\"following\"].apply(lambda x: str_detect(investment, x))\n",
    "    df[\"Power\"] = df[\"following\"].apply(lambda x: str_detect(power, x))\n",
    "    df[\"Loan Seeking\"] = df[\"following\"].apply(lambda x: str_detect(loan_seeking, x))\n",
    "    df[\"Car Sales\"] = df[\"following\"].apply(lambda x: str_detect(car_sales, x)) \n",
    "    df[\"Non-Interest\"] = df[\"following\"].apply(lambda x: str_detect(non_interest, x))\n",
    "    \n",
    "    return df\n",
    "\n",
    "user_df = classify_user_interest(data1, \"following\")"
   ]
  },
  {
   "cell_type": "code",
   "execution_count": 12,
   "metadata": {},
   "outputs": [
    {
     "data": {
      "text/plain": [
       "Shopping                [spar, super]\n",
       "Travel                          [inn]\n",
       "Utilities       [glo, energy, mobile]\n",
       "Betting                            []\n",
       "Fashion                            []\n",
       "Education                      [book]\n",
       "Health                          [spa]\n",
       "Investment                         []\n",
       "Power                        [energy]\n",
       "Loan Seeking                       []\n",
       "Car Sales                          []\n",
       "Non-Interest                       []\n",
       "Name: 1, dtype: object"
      ]
     },
     "execution_count": 12,
     "metadata": {},
     "output_type": "execute_result"
    }
   ],
   "source": [
    "# interest keywords identified in the following list of the first customer\n",
    "user_df.iloc[1, -12:]"
   ]
  },
  {
   "cell_type": "code",
   "execution_count": null,
   "metadata": {},
   "outputs": [],
   "source": [
    "import ast\n",
    "\n",
    "# Convert string representation to actual lists\n",
    "def convert_to_list(s):\n",
    "    try:\n",
    "        return ast.literal_eval(s)\n",
    "    except (ValueError, SyntaxError):\n",
    "        return s  # or some default value if conversion fails\n",
    "\n",
    "# Specify the columns to change\n",
    "col_to_change = ['Shopping', 'Travel', 'Utilities', 'Betting', 'Fashion',\n",
    "       'Education', 'Health', 'Investment', 'Power', 'Loan Seeking',\n",
    "       'Car Sales', 'Non-Interest']\n",
    "\n",
    "# Apply the function to the specified columns\n",
    "user_df[col_to_change] = user_df[col_to_change].applymap(convert_to_list)\n",
    "\n",
    "\n",
    "# Now, apply the transformation for empty and non-empty lists: \n",
    "# if any of the interest has an empty list, the result is 0, else it's 1\n",
    "user_df[col_to_change] = user_df[col_to_change].applymap(lambda x: 0 if len(x) == 0 else 1)"
   ]
  },
  {
   "cell_type": "code",
   "execution_count": 16,
   "metadata": {},
   "outputs": [
    {
     "name": "stdout",
     "output_type": "stream",
     "text": [
      "[1 1 1 1 1 1 1 1 1 1 1 1 1 1 1 0 1 1 1 1 1 1 1 1 0 1 1 1 1 1 1 1 1 1 1 1 0\n",
      " 1 1 1 0 0 1 0 0 1 1 1 1 0 0 1 0 1 1 1 1 0 0 1 1 0 1 1 1 1 1 1 1 1 1 1 1 1\n",
      " 1 1 1 1 1 1 1 1 1 1 1 1 1 1 1 1 1 1 1 1 0 1 1 1 0 1 0 1 1 0 1 1 1 1 1 1 1\n",
      " 1 1 1 1 1 1 1 1 1 1 1 1 1 1 1 1]\n"
     ]
    }
   ],
   "source": [
    "print(user_df[\"Shopping\"].values)"
   ]
  },
  {
   "cell_type": "markdown",
   "metadata": {},
   "source": [
    "Get additional data on the customers to get the products they are currently using"
   ]
  },
  {
   "cell_type": "code",
   "execution_count": null,
   "metadata": {},
   "outputs": [],
   "source": [
    "data2 = pd.read_csv(\"../cust_products.csv\")\n",
    "data2"
   ]
  },
  {
   "cell_type": "code",
   "execution_count": null,
   "metadata": {},
   "outputs": [],
   "source": [
    "data = pd.merge(user_df, data2, right_on=\"custid\", left_on=\"Customer\", how=\"left\")"
   ]
  },
  {
   "cell_type": "code",
   "execution_count": null,
   "metadata": {},
   "outputs": [],
   "source": [
    "data[\"Date_Of_Birth\"] = pd.to_datetime(data[\"Date_Of_Birth\"])\n",
    "\n",
    "today = datetime.date.today()\n",
    "\n",
    "# Calculate the age for each row\n",
    "data['Age'] = data['Date_Of_Birth'].apply(lambda x: today.year - x.year - ((today.month, today.day) < (x.month, x.day)))\n",
    "\n",
    "data.head()"
   ]
  },
  {
   "cell_type": "code",
   "execution_count": 18,
   "metadata": {},
   "outputs": [],
   "source": [
    "data[\"Age\"] = data[\"Age\"].fillna(data[\"Age\"].mean())"
   ]
  },
  {
   "cell_type": "code",
   "execution_count": null,
   "metadata": {},
   "outputs": [],
   "source": [
    "data.drop(columns=['custid', 'following', 'followers_count', 'followings_count', 'no_of_tweets',\n",
    "       'if_verified'], inplace=True)\n",
    "\n",
    "data.shape"
   ]
  },
  {
   "cell_type": "code",
   "execution_count": 29,
   "metadata": {},
   "outputs": [
    {
     "data": {
      "text/plain": [
       "Index(['Customer', 'Shopping', 'Travel', 'Utilities', 'Betting', 'Fashion',\n",
       "       'Education', 'Health', 'Investment', 'Power', 'Loan Seeking',\n",
       "       'Car Sales', 'Non-Interest', 'Product1', 'Product2', 'Product3',\n",
       "       'Product4', 'Product5', 'Product6', 'Product7', 'Product8', 'Product9',\n",
       "       'Product10', 'Customer_Rating', 'State_Residence', 'Gender',\n",
       "       'Marital_Status', 'Age'],\n",
       "      dtype='object')"
      ]
     },
     "execution_count": 29,
     "metadata": {},
     "output_type": "execute_result"
    }
   ],
   "source": [
    "data.columns"
   ]
  },
  {
   "cell_type": "code",
   "execution_count": 102,
   "metadata": {},
   "outputs": [],
   "source": [
    "# data.to_csv(\"cleaned-data.csv\", index=False)"
   ]
  },
  {
   "cell_type": "code",
   "execution_count": null,
   "metadata": {},
   "outputs": [],
   "source": []
  }
 ],
 "metadata": {
  "kernelspec": {
   "display_name": "Python 3.10.9 ('ml-exp-env')",
   "language": "python",
   "name": "python3"
  },
  "language_info": {
   "codemirror_mode": {
    "name": "ipython",
    "version": 3
   },
   "file_extension": ".py",
   "mimetype": "text/x-python",
   "name": "python",
   "nbconvert_exporter": "python",
   "pygments_lexer": "ipython3",
   "version": "3.10.9"
  },
  "orig_nbformat": 4,
  "vscode": {
   "interpreter": {
    "hash": "3f1d252ef46601678906dbdce4acb4f440340dbfaa288531fe6c2b835d5664f6"
   }
  }
 },
 "nbformat": 4,
 "nbformat_minor": 2
}
